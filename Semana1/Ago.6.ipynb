{
  "nbformat": 4,
  "nbformat_minor": 0,
  "metadata": {
    "colab": {
      "provenance": [],
      "authorship_tag": "ABX9TyPTzozGeZ0v8NJpteISM5jU",
      "include_colab_link": true
    },
    "kernelspec": {
      "name": "python3",
      "display_name": "Python 3"
    },
    "language_info": {
      "name": "python"
    }
  },
  "cells": [
    {
      "cell_type": "markdown",
      "metadata": {
        "id": "view-in-github",
        "colab_type": "text"
      },
      "source": [
        "<a href=\"https://colab.research.google.com/github/DCI-alxogm/me2025-clase-Andrea26-9/blob/main/Semana1/Ago.6.ipynb\" target=\"_parent\"><img src=\"https://colab.research.google.com/assets/colab-badge.svg\" alt=\"Open In Colab\"/></a>"
      ]
    },
    {
      "cell_type": "code",
      "execution_count": null,
      "metadata": {
        "id": "ECpn5r5-ZSrV"
      },
      "outputs": [],
      "source": [
        "Primer programa"
      ]
    },
    {
      "cell_type": "code",
      "source": [
        "# hola"
      ],
      "metadata": {
        "id": "26rFdR84c8zq"
      },
      "execution_count": null,
      "outputs": []
    }
  ]
}